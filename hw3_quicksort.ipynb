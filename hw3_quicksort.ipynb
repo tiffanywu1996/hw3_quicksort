{
 "cells": [
  {
   "cell_type": "code",
   "execution_count": 5,
   "id": "0def2f3b-7a3d-45ce-bd02-e2d69c89d7b8",
   "metadata": {
    "tags": []
   },
   "outputs": [],
   "source": [
    "def quicksort(array, start, end):\n",
    "    # 基本情況：如果起始位置不小於結束位置，則返回\n",
    "    if start >= end:\n",
    "        return\n",
    "\n",
    "    # 指定陣列的第一個元素為基準點\n",
    "    pivot_index = start\n",
    "    pivot = array[pivot_index]\n",
    "\n",
    "    # 左指標和右指標\n",
    "    left = start\n",
    "    right = end\n",
    "\n",
    "    while left != right:\n",
    "        # 從右向左移動，找到小於基準點的元素或指標相遇\n",
    "        while left < right and array[right] >= pivot:\n",
    "            right -= 1\n",
    "        # 從左向右移動，找到大於基準點的元素或指標相遇\n",
    "        while left < right and array[left] <= pivot:\n",
    "            left += 1\n",
    "        # 交換左指標和右指標的元素\n",
    "        if left < right:\n",
    "            array[left], array[right] = array[right], array[left]\n",
    "\n",
    "    # 最後將基準點元素與左指標所在位置元素交換\n",
    "    array[start], array[left] = array[left], array[start]\n",
    "    \n",
    "    # 遞歸排序基準點左側和右側的子陣列\n",
    "    quicksort(array, start, left - 1)\n",
    "    quicksort(array, left + 1, end)"
   ]
  },
  {
   "cell_type": "code",
   "execution_count": 6,
   "id": "a0b373e6-8b8e-4b7b-8698-3b18bc477a05",
   "metadata": {
    "tags": []
   },
   "outputs": [
    {
     "name": "stdout",
     "output_type": "stream",
     "text": [
      "排序後陣列: [3, 8, 13, 25, 33, 41, 54, 67, 84, 119]\n"
     ]
    }
   ],
   "source": [
    "array = [33, 67, 8, 13, 54, 119, 3, 84, 25, 41]\n",
    "quicksort(array, 0, len(array) - 1)\n",
    "print(\"排序後陣列:\", array)"
   ]
  }
 ],
 "metadata": {
  "kernelspec": {
   "display_name": "Python 3 (ipykernel)",
   "language": "python",
   "name": "python3"
  },
  "language_info": {
   "codemirror_mode": {
    "name": "ipython",
    "version": 3
   },
   "file_extension": ".py",
   "mimetype": "text/x-python",
   "name": "python",
   "nbconvert_exporter": "python",
   "pygments_lexer": "ipython3",
   "version": "3.11.5"
  }
 },
 "nbformat": 4,
 "nbformat_minor": 5
}
